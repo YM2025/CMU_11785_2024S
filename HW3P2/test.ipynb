{
 "cells": [
  {
   "cell_type": "code",
   "execution_count": null,
   "metadata": {},
   "outputs": [],
   "source": []
  },
  {
   "cell_type": "code",
   "execution_count": 5,
   "metadata": {},
   "outputs": [
    {
     "name": "stdout",
     "output_type": "stream",
     "text": [
      "音素标签内容：\n",
      "['[SOS]' '[SIL]' 'N' 'AO' 'R' 'TH' 'AH' 'N' 'JH' 'ER' 'AE' 'B' 'IY'\n",
      " '[SIL]' '[EOS]']\n",
      "\n",
      "MFCC数据的形状（样本数，帧数，特征维度）：\n",
      "(192, 27)\n",
      "\n",
      "MFCC数据的帧数：192\n"
     ]
    }
   ],
   "source": [
    "\n",
    "import numpy as np\n",
    "\n",
    "\n",
    "# 加载音素标签和MFCC特征的 .npy 文件\n",
    "phoneme_labels_file = 'E:/cv_data/cmu11785_data/HW3P2_data/11-785-s24-hw3p2/train-clean-100/transcript/19-198-0000.npy'  # 替换为实际音素标签文件路径\n",
    "mfcc_features_file = 'E:/cv_data/cmu11785_data/HW3P2_data/11-785-s24-hw3p2/train-clean-100/mfcc/19-198-0000.npy'  # 替换为实际MFCC特征文件路径\n",
    "\n",
    "# 加载文件\n",
    "phoneme_labels = np.load(phoneme_labels_file)\n",
    "mfcc_features = np.load(mfcc_features_file)\n",
    "\n",
    "# 打印音素标签和对应的MFCC数据的帧数\n",
    "print(\"音素标签内容：\")\n",
    "print(phoneme_labels)\n",
    "print(\"\\nMFCC数据的形状（样本数，帧数，特征维度）：\")\n",
    "print(mfcc_features.shape)\n",
    "\n",
    "# 获取MFCC数据的帧数\n",
    "mfcc_frame_count = mfcc_features.shape[0]\n",
    "print(f\"\\nMFCC数据的帧数：{mfcc_frame_count}\")"
   ]
  },
  {
   "cell_type": "code",
   "execution_count": null,
   "metadata": {},
   "outputs": [],
   "source": []
  },
  {
   "cell_type": "code",
   "execution_count": 7,
   "metadata": {},
   "outputs": [
    {
     "name": "stdout",
     "output_type": "stream",
     "text": [
      "验证集中所有文件的唯一标签数量（去除[SOS]和[EOS]后）：40\n",
      "所有标签都存在于 CMUdict_ARPAbet 中。\n"
     ]
    }
   ],
   "source": [
    "import os\n",
    "import numpy as np\n",
    "\n",
    "# 设置验证集路径（假设音素标签目录路径）\n",
    "phoneme_labels_dir = 'E:/cv_data/cmu11785_data/HW3P2_data/11-785-s24-hw3p2/dev-clean/transcript/'  # 替换为实际音素标签目录路径\n",
    "\n",
    "# CMUdict_ARPAbet 字典\n",
    "CMUdict_ARPAbet = {\n",
    "    \"\" : \"-\",\n",
    "    \"[SIL]\": \"|\", \"NG\": \"G\", \"F\" : \"f\", \"M\" : \"m\", \"AE\": \"@\",\n",
    "    \"R\"    : \"r\", \"UW\": \"u\", \"N\" : \"n\", \"IY\": \"i\", \"AW\": \"W\",\n",
    "    \"V\"    : \"v\", \"UH\": \"U\", \"OW\": \"o\", \"AA\": \"a\", \"ER\": \"R\",\n",
    "    \"HH\"   : \"h\", \"Z\" : \"z\", \"K\" : \"k\", \"CH\": \"C\", \"W\" : \"w\",\n",
    "    \"EY\"   : \"e\", \"ZH\": \"Z\", \"T\" : \"t\", \"EH\": \"E\", \"Y\" : \"y\",\n",
    "    \"AH\"   : \"A\", \"B\" : \"b\", \"P\" : \"p\", \"TH\": \"T\", \"DH\": \"D\",\n",
    "    \"AO\"   : \"c\", \"G\" : \"g\", \"L\" : \"l\", \"JH\": \"j\", \"OY\": \"O\",\n",
    "    \"SH\"   : \"S\", \"D\" : \"d\", \"AY\": \"Y\", \"S\" : \"s\", \"IH\": \"I\",\n",
    "    \"[SOS]\": \"[SOS]\", \"[EOS]\": \"[EOS]\"\n",
    "}\n",
    "\n",
    "# 初始化一个集合来存储所有唯一的标签字符\n",
    "unique_labels = set()\n",
    "\n",
    "# 遍历验证集中的每个文件\n",
    "for phoneme_file in os.listdir(phoneme_labels_dir):\n",
    "    # 跳过非npy文件\n",
    "    if not phoneme_file.endswith('.npy'):\n",
    "        continue\n",
    "    \n",
    "    # 加载音素标签文件\n",
    "    phoneme_labels = np.load(os.path.join(phoneme_labels_dir, phoneme_file))\n",
    "    \n",
    "    # 删除开头的[SOS]和结尾的[EOS]\n",
    "    if phoneme_labels[0] == '[SOS]':\n",
    "        phoneme_labels = phoneme_labels[1:]\n",
    "    if phoneme_labels[-1] == '[EOS]':\n",
    "        phoneme_labels = phoneme_labels[:-1]\n",
    "    \n",
    "    # 将标签字符添加到集合中\n",
    "    unique_labels.update(phoneme_labels)\n",
    "\n",
    "# 打印唯一标签的数量\n",
    "print(f\"验证集中所有文件的唯一标签数量（去除[SOS]和[EOS]后）：{len(unique_labels)}\")\n",
    "\n",
    "# 检查每个标签是否都在 CMUdict_ARPAbet 中\n",
    "missing_labels = [label for label in unique_labels if label not in CMUdict_ARPAbet]\n",
    "\n",
    "if not missing_labels:\n",
    "    print(\"所有标签都存在于 CMUdict_ARPAbet 中。\")\n",
    "else:\n",
    "    print(f\"以下标签不在 CMUdict_ARPAbet 中：{missing_labels}\")\n"
   ]
  },
  {
   "cell_type": "code",
   "execution_count": null,
   "metadata": {},
   "outputs": [],
   "source": []
  },
  {
   "cell_type": "code",
   "execution_count": 2,
   "metadata": {},
   "outputs": [
    {
     "name": "stderr",
     "output_type": "stream",
     "text": [
      "100%|██████████| 2703/2703 [00:00<00:00, 3263.59it/s]\n"
     ]
    },
    {
     "name": "stdout",
     "output_type": "stream",
     "text": [
      "2703 2703 2703\n",
      "Number of unique labels in validation set: 41\n",
      "Unique labels: [0, 1, 2, 3, 4, 5, 6, 7, 8, 9, 10, 11, 12, 13, 14, 15, 16, 17, 18, 19, 20, 21, 22, 23, 24, 25, 26, 27, 28, 29, 30, 31, 32, 33, 34, 35, 36, 37, 38, 39, 40]\n"
     ]
    }
   ],
   "source": [
    "import torch\n",
    "from ym_dataset import *\n",
    "from ym_config import *\n",
    "\n",
    "# 加载验证数据集\n",
    "val_data = AudioDataset(partition=\"dev-clean\", use_cmn=True, audio_transformation=None)\n",
    "val_loader = torch.utils.data.DataLoader(\n",
    "    dataset=val_data,\n",
    "    num_workers=1,\n",
    "    batch_size=config[\"batch_size\"],\n",
    "    pin_memory=True,\n",
    "    persistent_workers=True,\n",
    "    shuffle=False,\n",
    "    collate_fn=val_data.collate_fn\n",
    ")\n",
    "\n",
    "# 创建一个集合来存储所有唯一标签\n",
    "unique_labels = set()\n",
    "\n",
    "# 遍历验证集\n",
    "for _, y, _, _ in val_loader:\n",
    "    # 将标签添加到集合中\n",
    "    for label in y.flatten().tolist():\n",
    "        unique_labels.add(label)\n",
    "\n",
    "# 输出验证集中标签的数量\n",
    "print(\"Number of unique labels in validation set:\", len(unique_labels))\n",
    "\n",
    "# 输出验证集中所有唯一标签的具体内容\n",
    "print(\"Unique labels:\", sorted(unique_labels))\n"
   ]
  },
  {
   "cell_type": "code",
   "execution_count": null,
   "metadata": {},
   "outputs": [],
   "source": []
  },
  {
   "cell_type": "code",
   "execution_count": 9,
   "metadata": {},
   "outputs": [
    {
     "name": "stdout",
     "output_type": "stream",
     "text": [
      "None\n"
     ]
    }
   ],
   "source": []
  },
  {
   "cell_type": "code",
   "execution_count": null,
   "metadata": {},
   "outputs": [],
   "source": []
  }
 ],
 "metadata": {
  "kernelspec": {
   "display_name": "torch",
   "language": "python",
   "name": "python3"
  },
  "language_info": {
   "codemirror_mode": {
    "name": "ipython",
    "version": 3
   },
   "file_extension": ".py",
   "mimetype": "text/x-python",
   "name": "python",
   "nbconvert_exporter": "python",
   "pygments_lexer": "ipython3",
   "version": "3.10.14"
  }
 },
 "nbformat": 4,
 "nbformat_minor": 2
}
