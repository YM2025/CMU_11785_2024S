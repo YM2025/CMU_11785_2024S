{
 "cells": [
  {
   "cell_type": "code",
   "execution_count": null,
   "metadata": {},
   "outputs": [],
   "source": []
  },
  {
   "cell_type": "code",
   "execution_count": 5,
   "metadata": {},
   "outputs": [
    {
     "name": "stdout",
     "output_type": "stream",
     "text": [
      "音素标签内容：\n",
      "['[SOS]' '[SIL]' 'N' 'AO' 'R' 'TH' 'AH' 'N' 'JH' 'ER' 'AE' 'B' 'IY'\n",
      " '[SIL]' '[EOS]']\n",
      "\n",
      "MFCC数据的形状（样本数，帧数，特征维度）：\n",
      "(192, 27)\n",
      "\n",
      "MFCC数据的帧数：192\n"
     ]
    }
   ],
   "source": [
    "\n",
    "import numpy as np\n",
    "\n",
    "\n",
    "# 加载音素标签和MFCC特征的 .npy 文件\n",
    "phoneme_labels_file = 'E:/cv_data/cmu11785_data/HW3P2_data/11-785-s24-hw3p2/train-clean-100/transcript/19-198-0000.npy'  # 替换为实际音素标签文件路径\n",
    "mfcc_features_file = 'E:/cv_data/cmu11785_data/HW3P2_data/11-785-s24-hw3p2/train-clean-100/mfcc/19-198-0000.npy'  # 替换为实际MFCC特征文件路径\n",
    "\n",
    "# 加载文件\n",
    "phoneme_labels = np.load(phoneme_labels_file)\n",
    "mfcc_features = np.load(mfcc_features_file)\n",
    "\n",
    "# 打印音素标签和对应的MFCC数据的帧数\n",
    "print(\"音素标签内容：\")\n",
    "print(phoneme_labels)\n",
    "print(\"\\nMFCC数据的形状（样本数，帧数，特征维度）：\")\n",
    "print(mfcc_features.shape)\n",
    "\n",
    "# 获取MFCC数据的帧数\n",
    "mfcc_frame_count = mfcc_features.shape[0]\n",
    "print(f\"\\nMFCC数据的帧数：{mfcc_frame_count}\")"
   ]
  },
  {
   "cell_type": "code",
   "execution_count": null,
   "metadata": {},
   "outputs": [],
   "source": []
  },
  {
   "cell_type": "code",
   "execution_count": null,
   "metadata": {},
   "outputs": [],
   "source": []
  },
  {
   "cell_type": "code",
   "execution_count": null,
   "metadata": {},
   "outputs": [],
   "source": []
  },
  {
   "cell_type": "code",
   "execution_count": 9,
   "metadata": {},
   "outputs": [
    {
     "name": "stdout",
     "output_type": "stream",
     "text": [
      "None\n"
     ]
    }
   ],
   "source": []
  },
  {
   "cell_type": "code",
   "execution_count": null,
   "metadata": {},
   "outputs": [],
   "source": []
  }
 ],
 "metadata": {
  "kernelspec": {
   "display_name": "torch",
   "language": "python",
   "name": "python3"
  },
  "language_info": {
   "codemirror_mode": {
    "name": "ipython",
    "version": 3
   },
   "file_extension": ".py",
   "mimetype": "text/x-python",
   "name": "python",
   "nbconvert_exporter": "python",
   "pygments_lexer": "ipython3",
   "version": "3.10.14"
  }
 },
 "nbformat": 4,
 "nbformat_minor": 2
}
